{
 "cells": [
  {
   "cell_type": "markdown",
   "id": "a872bd9c",
   "metadata": {},
   "source": [
    "## String module constants\n"
   ]
  },
  {
   "cell_type": "code",
   "execution_count": null,
   "id": "00c21536",
   "metadata": {},
   "outputs": [],
   "source": [
    "#Since they are not functions rather constants, do not use ()\n",
    "import string\n",
    "\n",
    "\n",
    "print(string.ascii_uppercase)\n",
    "\n",
    "print(string.ascii_lowercase)\n",
    "\n",
    "print(string.punctuation)\n",
    "\n",
    "#A string containing all ASCII characters that are considered whitespace. \n",
    "#This includes the characters space, tab, linefeed, return, formfeed, and vertical tab.\n",
    "\n",
    "print(string.whitespace)\n",
    "\n",
    "print(string.digits)\n",
    "\n",
    "print(string.hexdigits)"
   ]
  },
  {
   "cell_type": "markdown",
   "id": "317f45f9",
   "metadata": {},
   "source": [
    "### String methods\n",
    "\n",
    "**All string methods returns new values. They do not change the original string.**"
   ]
  },
  {
   "cell_type": "code",
   "execution_count": 18,
   "id": "db6e9a09",
   "metadata": {},
   "outputs": [],
   "source": [
    "sentence = 'hello my name is Ron'"
   ]
  },
  {
   "cell_type": "code",
   "execution_count": 19,
   "id": "7f434a36",
   "metadata": {},
   "outputs": [
    {
     "data": {
      "text/plain": [
       "'Hello my name is ron'"
      ]
     },
     "execution_count": 19,
     "metadata": {},
     "output_type": "execute_result"
    }
   ],
   "source": [
    "# Converts the first character to upper case\n",
    "sentence.capitalize()"
   ]
  },
  {
   "cell_type": "code",
   "execution_count": 42,
   "id": "e5cb7baa",
   "metadata": {},
   "outputs": [
    {
     "data": {
      "text/plain": [
       "True"
      ]
     },
     "execution_count": 42,
     "metadata": {},
     "output_type": "execute_result"
    }
   ],
   "source": [
    "new = sentence.lower()\n",
    "\n",
    "#all chars are lower\n",
    "new.islower()"
   ]
  },
  {
   "cell_type": "code",
   "execution_count": 43,
   "id": "5305171c",
   "metadata": {},
   "outputs": [
    {
     "data": {
      "text/plain": [
       "True"
      ]
     },
     "execution_count": 43,
     "metadata": {},
     "output_type": "execute_result"
    }
   ],
   "source": [
    "new = sentence.upper()\n",
    "\n",
    "#all chars are uppper\n",
    "new.isupper()"
   ]
  },
  {
   "cell_type": "code",
   "execution_count": 72,
   "id": "35898e8c",
   "metadata": {},
   "outputs": [
    {
     "data": {
      "text/plain": [
       "'HELLO MY NAME IS rON'"
      ]
     },
     "execution_count": 72,
     "metadata": {},
     "output_type": "execute_result"
    }
   ],
   "source": [
    "#lower becomes upper and vice versa\n",
    "sentence.swapcase()"
   ]
  },
  {
   "cell_type": "code",
   "execution_count": 25,
   "id": "63255ca2",
   "metadata": {},
   "outputs": [
    {
     "data": {
      "text/plain": [
       "20"
      ]
     },
     "execution_count": 25,
     "metadata": {},
     "output_type": "execute_result"
    }
   ],
   "source": [
    "len(sentence)"
   ]
  },
  {
   "cell_type": "code",
   "execution_count": 26,
   "id": "f8a4c935",
   "metadata": {},
   "outputs": [
    {
     "data": {
      "text/plain": [
       "2"
      ]
     },
     "execution_count": 26,
     "metadata": {},
     "output_type": "execute_result"
    }
   ],
   "source": [
    "# Returns the number of times a specified value occurs in a string\n",
    "sentence.count('l')"
   ]
  },
  {
   "cell_type": "code",
   "execution_count": 29,
   "id": "629e2a85",
   "metadata": {},
   "outputs": [
    {
     "data": {
      "text/plain": [
       "True"
      ]
     },
     "execution_count": 29,
     "metadata": {},
     "output_type": "execute_result"
    }
   ],
   "source": [
    "sentence.startswith('h')"
   ]
  },
  {
   "cell_type": "code",
   "execution_count": 30,
   "id": "c8db5495",
   "metadata": {},
   "outputs": [
    {
     "data": {
      "text/plain": [
       "True"
      ]
     },
     "execution_count": 30,
     "metadata": {},
     "output_type": "execute_result"
    }
   ],
   "source": [
    "sentence.endswith('Ron')"
   ]
  },
  {
   "cell_type": "markdown",
   "id": "c6cdda91",
   "metadata": {},
   "source": [
    "#### Searches the string for a specified value and returns the position of where it was found"
   ]
  },
  {
   "cell_type": "code",
   "execution_count": 55,
   "id": "0962b843",
   "metadata": {},
   "outputs": [
    {
     "data": {
      "text/plain": [
       "6"
      ]
     },
     "execution_count": 55,
     "metadata": {},
     "output_type": "execute_result"
    }
   ],
   "source": [
    "\n",
    "sentence.find('m')"
   ]
  },
  {
   "cell_type": "code",
   "execution_count": 56,
   "id": "2f0140fc",
   "metadata": {},
   "outputs": [
    {
     "data": {
      "text/plain": [
       "6"
      ]
     },
     "execution_count": 56,
     "metadata": {},
     "output_type": "execute_result"
    }
   ],
   "source": [
    "sentence.index('m')"
   ]
  },
  {
   "cell_type": "code",
   "execution_count": 57,
   "id": "f70a912b",
   "metadata": {},
   "outputs": [
    {
     "data": {
      "text/plain": [
       "11"
      ]
     },
     "execution_count": 57,
     "metadata": {},
     "output_type": "execute_result"
    }
   ],
   "source": [
    "sentence.rindex('m')"
   ]
  },
  {
   "cell_type": "code",
   "execution_count": 53,
   "id": "49dd33a2",
   "metadata": {},
   "outputs": [
    {
     "data": {
      "text/plain": [
       "11"
      ]
     },
     "execution_count": 53,
     "metadata": {},
     "output_type": "execute_result"
    }
   ],
   "source": [
    "#reverse find\n",
    "sentence.rfind('m')"
   ]
  },
  {
   "cell_type": "code",
   "execution_count": 35,
   "id": "c01c7e86",
   "metadata": {},
   "outputs": [
    {
     "data": {
      "text/plain": [
       "False"
      ]
     },
     "execution_count": 35,
     "metadata": {},
     "output_type": "execute_result"
    }
   ],
   "source": [
    "#Returns True if all characters in the string are alphanumeric (digits and alphabets only)\n",
    "sentence.isalnum()"
   ]
  },
  {
   "cell_type": "code",
   "execution_count": 37,
   "id": "7eda4dec",
   "metadata": {},
   "outputs": [
    {
     "data": {
      "text/plain": [
       "False"
      ]
     },
     "execution_count": 37,
     "metadata": {},
     "output_type": "execute_result"
    }
   ],
   "source": [
    "#Returns True if all characters in the string are in the alphabet\n",
    "sentence.isalpha()"
   ]
  },
  {
   "cell_type": "code",
   "execution_count": 38,
   "id": "18b4965b",
   "metadata": {},
   "outputs": [
    {
     "data": {
      "text/plain": [
       "True"
      ]
     },
     "execution_count": 38,
     "metadata": {},
     "output_type": "execute_result"
    }
   ],
   "source": [
    "#Returns True if all characters in the string are ascii characters\n",
    "sentence.isascii()"
   ]
  },
  {
   "cell_type": "code",
   "execution_count": 45,
   "id": "f8737eab",
   "metadata": {},
   "outputs": [
    {
     "data": {
      "text/plain": [
       "False"
      ]
     },
     "execution_count": 45,
     "metadata": {},
     "output_type": "execute_result"
    }
   ],
   "source": [
    "#checks if all characters are digits, numbers and decimals\n",
    "sentence.isdigit()\n",
    "sentence.isnumeric()\n",
    "sentence.isdecimal()"
   ]
  },
  {
   "cell_type": "code",
   "execution_count": 46,
   "id": "4cee46c0",
   "metadata": {},
   "outputs": [
    {
     "data": {
      "text/plain": [
       "False"
      ]
     },
     "execution_count": 46,
     "metadata": {},
     "output_type": "execute_result"
    }
   ],
   "source": [
    "\n",
    "#Returns True if all characters in the string are whitespaces\n",
    "sentence.isspace()"
   ]
  },
  {
   "cell_type": "markdown",
   "id": "cddf1437",
   "metadata": {},
   "source": [
    "### Iterable to string"
   ]
  },
  {
   "cell_type": "code",
   "execution_count": 48,
   "id": "6cf5e507",
   "metadata": {},
   "outputs": [
    {
     "data": {
      "text/plain": [
       "'avsr'"
      ]
     },
     "execution_count": 48,
     "metadata": {},
     "output_type": "execute_result"
    }
   ],
   "source": [
    "char_list = ['a','v','s','r']\n",
    "new = ''.join(char_list)\n",
    "new"
   ]
  },
  {
   "cell_type": "code",
   "execution_count": 49,
   "id": "1273e128",
   "metadata": {},
   "outputs": [
    {
     "data": {
      "text/plain": [
       "'bevsr'"
      ]
     },
     "execution_count": 49,
     "metadata": {},
     "output_type": "execute_result"
    }
   ],
   "source": [
    "new.replace('a','be')"
   ]
  },
  {
   "cell_type": "code",
   "execution_count": 51,
   "id": "009b4b0d",
   "metadata": {},
   "outputs": [
    {
     "data": {
      "text/plain": [
       "'vsr'"
      ]
     },
     "execution_count": 51,
     "metadata": {},
     "output_type": "execute_result"
    }
   ],
   "source": [
    "#strip whitespaces/characters\n",
    "\n",
    "new.lstrip('a')"
   ]
  },
  {
   "cell_type": "code",
   "execution_count": 52,
   "id": "4eb510b7",
   "metadata": {},
   "outputs": [
    {
     "data": {
      "text/plain": [
       "'avs'"
      ]
     },
     "execution_count": 52,
     "metadata": {},
     "output_type": "execute_result"
    }
   ],
   "source": [
    "new.rstrip('r')"
   ]
  },
  {
   "cell_type": "code",
   "execution_count": 59,
   "id": "f8abb594",
   "metadata": {},
   "outputs": [
    {
     "data": {
      "text/plain": [
       "['hello', 'my name is Ron']"
      ]
     },
     "execution_count": 59,
     "metadata": {},
     "output_type": "execute_result"
    }
   ],
   "source": [
    "#split from left to right uptil 1st space\n",
    "sentence.split(' ',1)"
   ]
  },
  {
   "cell_type": "code",
   "execution_count": 60,
   "id": "ad9527c8",
   "metadata": {},
   "outputs": [
    {
     "data": {
      "text/plain": [
       "['hello my name', 'is', 'Ron']"
      ]
     },
     "execution_count": 60,
     "metadata": {},
     "output_type": "execute_result"
    }
   ],
   "source": [
    "#split from right to lest, maxsplit decides number of elements we want in list\n",
    "sentence.rsplit(' ',2)"
   ]
  },
  {
   "cell_type": "code",
   "execution_count": 73,
   "id": "a3676220",
   "metadata": {},
   "outputs": [
    {
     "data": {
      "text/plain": [
       "['Hello mt name is ron ', ' Thanks']"
      ]
     },
     "execution_count": 73,
     "metadata": {},
     "output_type": "execute_result"
    }
   ],
   "source": [
    "#split on new lines\n",
    "\n",
    "text = \"Hello mt name is ron \\n Thanks\"\n",
    "text.splitlines()"
   ]
  },
  {
   "cell_type": "code",
   "execution_count": 67,
   "id": "c5ce371c",
   "metadata": {},
   "outputs": [
    {
     "data": {
      "text/plain": [
       "'00050'"
      ]
     },
     "execution_count": 67,
     "metadata": {},
     "output_type": "execute_result"
    }
   ],
   "source": [
    "#Fills the string with a specified number of 0 values at the beginning\n",
    "\"50\".zfill(5)"
   ]
  },
  {
   "cell_type": "markdown",
   "id": "aaf62288",
   "metadata": {},
   "source": [
    "### String format"
   ]
  },
  {
   "cell_type": "code",
   "execution_count": 68,
   "id": "4700b56f",
   "metadata": {},
   "outputs": [
    {
     "name": "stdout",
     "output_type": "stream",
     "text": [
      "here is the information about me hello my name is Ron\n"
     ]
    }
   ],
   "source": [
    "print(f\"here is the information about me: {sentence}\")"
   ]
  },
  {
   "cell_type": "code",
   "execution_count": 71,
   "id": "8a3486d5",
   "metadata": {},
   "outputs": [
    {
     "data": {
      "text/plain": [
       "'here is the information about me: hello my name is Ron ,thanks'"
      ]
     },
     "execution_count": 71,
     "metadata": {},
     "output_type": "execute_result"
    }
   ],
   "source": [
    "\"here is the information about me: {} {}\".format(sentence,\",thanks\")"
   ]
  },
  {
   "cell_type": "markdown",
   "id": "7ec63f25",
   "metadata": {},
   "source": [
    "### References\n",
    "\n",
    "1. https://docs.python.org/3/library/string.html#string.ascii_lowercase\n",
    "2. https://www.w3schools.com/python/python_ref_string.asp"
   ]
  }
 ],
 "metadata": {
  "kernelspec": {
   "display_name": "Python 3 (ipykernel)",
   "language": "python",
   "name": "python3"
  },
  "language_info": {
   "codemirror_mode": {
    "name": "ipython",
    "version": 3
   },
   "file_extension": ".py",
   "mimetype": "text/x-python",
   "name": "python",
   "nbconvert_exporter": "python",
   "pygments_lexer": "ipython3",
   "version": "3.9.10"
  }
 },
 "nbformat": 4,
 "nbformat_minor": 5
}
