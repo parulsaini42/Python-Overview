{
  "nbformat": 4,
  "nbformat_minor": 0,
  "metadata": {
    "colab": {
      "name": "Python Program Debugging.ipynb",
      "provenance": [],
      "collapsed_sections": []
    },
    "kernelspec": {
      "name": "python3",
      "display_name": "Python 3"
    },
    "language_info": {
      "name": "python"
    }
  },
  "cells": [
    {
      "cell_type": "markdown",
      "source": [
        "### **Python Program Debugging**"
      ],
      "metadata": {
        "id": "Ade_fUQTlYpa"
      }
    },
    {
      "cell_type": "markdown",
      "source": [
        "#### Debugging Python programs with 'pdb' - Interactive source code debugger for python which allows you to analyse the state of the variables through the course of execution\n",
        "\n",
        "#### **Interpreting the frame**:\n",
        "\n",
        "**> < ipython-input-5-ad05a43a38ae >(9)product()** <br>\n",
        "**-> return self.count * self.count**<br>\n",
        "\n",
        "\n",
        "*   *> < ipython-input-5-ad05a43a38ae >*: Cell/file name when uing approach 3<br>\n",
        "*   *(9)* : Line in code<br>\n",
        "*   *product()* : Current function <br>\n",
        "*   *-> return self.count * self.count* : Unexecuted line before which the breakpoint is triggered<br>\n",
        "\n",
        "#### **Commands**:\n",
        "1. ll : List the source code for current function/frame\n",
        "2. p : print variables etc in the current frame/context \n",
        "3. pp : print a variable or expression with a large amount of output and keeping output in single line\n",
        "4. cl (clear) [breakpoint line no.] : To clear breakpoint\n",
        "5. u (up) : Move the current frame count (default one) levels up in the stack trace (to an older frame).\n",
        "6. d (down) : Move the current frame count (default one) levels down in the stack trace (to a newer frame).\n",
        "7. n (next) : Continue execution until the next line in the current function is reached or it returns. Prints the return value\n",
        "8. s (step) : \tExecute the current line and stop at the first possible occasion (either in a function that is called or in the current function).\n",
        "9. c : Continue execution\n",
        "10. b : specify breakpoint eg. b filename:line_no [condition to be true if any]\n",
        "11. tbreak: Temporary breakpoint, which is removed automatically when it is first hit. The arguments are the same as for break.\n",
        "12. h : Document the commands\n"
      ],
      "metadata": {
        "id": "XxZOh5zIloK7"
      }
    },
    {
      "cell_type": "markdown",
      "source": [
        "### Approach 1:\n",
        "import pdb <br> pdb.set_trace()"
      ],
      "metadata": {
        "id": "n6lM3CG3vPID"
      }
    },
    {
      "cell_type": "code",
      "source": [
        "import pdb\n",
        "\n",
        "class MyClass:\n",
        "    def __init__(self,count):\n",
        "        self.count = count\n",
        "    \n",
        "    def product(self):\n",
        "        pdb.set_trace()\n",
        "        return self.count * self.count \n",
        "    \n",
        "    def func(self):\n",
        "            p= self.product()\n",
        "            pdb.set_trace()\n",
        "            print(p)\n",
        "        \n",
        "\n",
        "if __name__ == '__main__':\n",
        "    Obj = MyClass(5)\n",
        "    Obj.func()"
      ],
      "metadata": {
        "colab": {
          "base_uri": "https://localhost:8080/"
        },
        "id": "X4F5bPoIlVfE",
        "outputId": "b89f900f-fea9-4f91-e26d-24670d2fcd4e"
      },
      "execution_count": 5,
      "outputs": [
        {
          "output_type": "stream",
          "name": "stdout",
          "text": [
            "> <ipython-input-5-ad05a43a38ae>(9)product()\n",
            "-> return self.count * self.count\n",
            "(Pdb) ll\n",
            "  7  \t    def product(self):\n",
            "  8  \t        pdb.set_trace()\n",
            "  9  ->\t        return self.count * self.count\n",
            "(Pdb) p self.count\n",
            "5\n",
            "(Pdb) n\n",
            "--Return--\n",
            "> <ipython-input-5-ad05a43a38ae>(9)product()->25\n",
            "-> return self.count * self.count\n",
            "(Pdb) s\n",
            "> <ipython-input-5-ad05a43a38ae>(13)func()\n",
            "-> pdb.set_trace()\n",
            "(Pdb) d\n",
            "*** Newest frame\n",
            "(Pdb) ll\n",
            " 11  \t    def func(self):\n",
            " 12  \t            p= self.product()\n",
            " 13  ->\t            pdb.set_trace()\n",
            " 14  \t            print(p)\n",
            "(Pdb) u\n",
            "> <ipython-input-5-ad05a43a38ae>(19)<module>()\n",
            "-> Obj.func()\n",
            "(Pdb) ll\n",
            "  1  \timport pdb\n",
            "  2  \t\n",
            "  3  \tclass MyClass:\n",
            "  4  \t    def __init__(self,count):\n",
            "  5  \t        self.count = count\n",
            "  6  \t\n",
            "  7  \t    def product(self):\n",
            "  8  \t        pdb.set_trace()\n",
            "  9  \t        return self.count * self.count\n",
            " 10  \t\n",
            " 11  \t    def func(self):\n",
            " 12  \t            p= self.product()\n",
            " 13  \t            pdb.set_trace()\n",
            " 14  \t            print(p)\n",
            " 15  \t\n",
            " 16  \t\n",
            " 17  \tif __name__ == '__main__':\n",
            " 18  \t    Obj = MyClass(5)\n",
            " 19  ->\t    Obj.func()\n",
            "(Pdb) n\n",
            "> <ipython-input-5-ad05a43a38ae>(14)func()\n",
            "-> print(p)\n",
            "(Pdb) cl\n",
            "Clear all breaks? \n",
            "(Pdb) cl 13\n",
            "*** Breakpoint number 13 out of range\n",
            "(Pdb) c\n",
            "25\n"
          ]
        }
      ]
    },
    {
      "cell_type": "markdown",
      "source": [
        "### Approach 2:\n",
        "Use breakpoint() which imports pdb implicitly. <br>\n",
        "Prefer breakpoint() in python v3.7 and greater as it is more flexible and control debugger behaviour."
      ],
      "metadata": {
        "id": "XVfmpmTpvKtx"
      }
    },
    {
      "cell_type": "code",
      "source": [
        "class MyClass:\n",
        "    def __init__(self,count):\n",
        "        self.count = count\n",
        "    \n",
        "    def product(self):\n",
        "        breakpoint()\n",
        "        return self.count * self.count \n",
        "    \n",
        "    def func(self):\n",
        "            p= self.product()\n",
        "            breakpoint()\n",
        "            print(p)\n",
        "        \n",
        "\n",
        "if __name__ == '__main__':\n",
        "    Obj = MyClass(5)\n",
        "    Obj.func()"
      ],
      "metadata": {
        "colab": {
          "base_uri": "https://localhost:8080/"
        },
        "id": "scuLEDHOvAaY",
        "outputId": "6df88924-c562-4888-9f74-53e01d673344"
      },
      "execution_count": 10,
      "outputs": [
        {
          "output_type": "stream",
          "name": "stdout",
          "text": [
            "> <ipython-input-10-c7b579e24486>(7)product()\n",
            "-> return self.count * self.count\n",
            "(Pdb) h\n",
            "\n",
            "Documented commands (type help <topic>):\n",
            "========================================\n",
            "EOF    c          d        h         list      q        rv       undisplay\n",
            "a      cl         debug    help      ll        quit     s        unt      \n",
            "alias  clear      disable  ignore    longlist  r        source   until    \n",
            "args   commands   display  interact  n         restart  step     up       \n",
            "b      condition  down     j         next      return   tbreak   w        \n",
            "break  cont       enable   jump      p         retval   u        whatis   \n",
            "bt     continue   exit     l         pp        run      unalias  where    \n",
            "\n",
            "Miscellaneous help topics:\n",
            "==========================\n",
            "exec  pdb\n",
            "\n",
            "(Pdb) c\n",
            "> <ipython-input-10-c7b579e24486>(12)func()\n",
            "-> print(p)\n",
            "(Pdb) c\n",
            "25\n"
          ]
        }
      ]
    },
    {
      "cell_type": "markdown",
      "source": [
        "### Approach 3:\n",
        "Use python -m pdb command for script execution"
      ],
      "metadata": {
        "id": "WYzrQeds20TL"
      }
    },
    {
      "cell_type": "code",
      "source": [
        "!python -m pdb my_script.py "
      ],
      "metadata": {
        "id": "Fv0TfXtj24Y4"
      },
      "execution_count": null,
      "outputs": []
    },
    {
      "cell_type": "markdown",
      "source": [
        "References:\n",
        "\n",
        "1. https://realpython.com/python-debugging-pdb/\n",
        "2. https://docs.python.org/3/library/pdb.html"
      ],
      "metadata": {
        "id": "l_NCUQnauykr"
      }
    }
  ]
}